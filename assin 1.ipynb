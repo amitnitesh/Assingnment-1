{
 "cells": [
  {
   "cell_type": "markdown",
   "id": "dc9fac9e-7338-4536-aea2-29526a7db88d",
   "metadata": {},
   "source": [
    "type conversion"
   ]
  },
  {
   "cell_type": "code",
   "execution_count": 1,
   "id": "9f864401-4413-4ade-94bb-cde18fd7d00e",
   "metadata": {},
   "outputs": [
    {
     "name": "stdout",
     "output_type": "stream",
     "text": [
      "<class 'int'>\n"
     ]
    }
   ],
   "source": [
    "a=3\n",
    "print(type(a))"
   ]
  },
  {
   "cell_type": "code",
   "execution_count": 2,
   "id": "95622e27-5d98-477f-864a-b6994ef522e6",
   "metadata": {},
   "outputs": [],
   "source": [
    "b=float(a)"
   ]
  },
  {
   "cell_type": "code",
   "execution_count": 5,
   "id": "b758cb09-d41d-4625-b695-15ca74e89527",
   "metadata": {},
   "outputs": [
    {
     "name": "stdout",
     "output_type": "stream",
     "text": [
      "<class 'float'>\n"
     ]
    }
   ],
   "source": [
    "print(type(b))"
   ]
  },
  {
   "cell_type": "code",
   "execution_count": 7,
   "id": "ec266ed4-a0f9-47b1-bd57-9d8a70c4b1d3",
   "metadata": {},
   "outputs": [
    {
     "name": "stdout",
     "output_type": "stream",
     "text": [
      "<class 'int'>\n"
     ]
    }
   ],
   "source": [
    "c=int(b)\n",
    "print(type(c))"
   ]
  },
  {
   "cell_type": "code",
   "execution_count": 8,
   "id": "1ae680f3-d5d9-4264-a58c-8935c28b1d3a",
   "metadata": {},
   "outputs": [
    {
     "name": "stdout",
     "output_type": "stream",
     "text": [
      "<class 'str'>\n"
     ]
    }
   ],
   "source": [
    "d=str(a)\n",
    "print(type(d))"
   ]
  },
  {
   "cell_type": "code",
   "execution_count": 10,
   "id": "6be30127-0349-4046-adc1-119e73bae538",
   "metadata": {},
   "outputs": [
    {
     "name": "stdout",
     "output_type": "stream",
     "text": [
      "<class 'tuple'>\n",
      "<class 'list'>\n"
     ]
    }
   ],
   "source": [
    "# tuple into list\n",
    "e=(\"nitesh\",23)\n",
    "print(type(e))\n",
    "f=list(e)\n",
    "print(type(f))"
   ]
  },
  {
   "cell_type": "code",
   "execution_count": 12,
   "id": "c725f496-a508-43cf-a099-3cb2e08baceb",
   "metadata": {},
   "outputs": [
    {
     "name": "stdout",
     "output_type": "stream",
     "text": [
      "<class 'list'>\n",
      "<class 'tuple'>\n"
     ]
    }
   ],
   "source": [
    "# tuple into list\n",
    "e=[\"nitesh\",23]\n",
    "print(type(e))\n",
    "f=tuple(e)\n",
    "print(type(f))"
   ]
  },
  {
   "cell_type": "code",
   "execution_count": 18,
   "id": "fdeb278f-82ac-4342-a355-8f1365cef69f",
   "metadata": {},
   "outputs": [
    {
     "name": "stdout",
     "output_type": "stream",
     "text": [
      "0b10\n"
     ]
    }
   ],
   "source": [
    "a=2.5\n",
    "b=int(a)\n",
    "print(bin(b))"
   ]
  },
  {
   "cell_type": "code",
   "execution_count": 19,
   "id": "9ef2003a-097b-401b-8f49-eae73691ff2a",
   "metadata": {},
   "outputs": [
    {
     "data": {
      "text/plain": [
       "'0b10'"
      ]
     },
     "execution_count": 19,
     "metadata": {},
     "output_type": "execute_result"
    }
   ],
   "source": []
  },
  {
   "cell_type": "code",
   "execution_count": null,
   "id": "6ef335ed-69d6-4ed8-ae02-87d8d16d4c00",
   "metadata": {},
   "outputs": [],
   "source": []
  },
  {
   "cell_type": "code",
   "execution_count": null,
   "id": "eece41b5-5d24-465f-99f2-d449c5b66b13",
   "metadata": {},
   "outputs": [],
   "source": []
  },
  {
   "cell_type": "code",
   "execution_count": null,
   "id": "6370c1f4-411a-44d9-a621-8c877e08a205",
   "metadata": {},
   "outputs": [],
   "source": []
  },
  {
   "cell_type": "code",
   "execution_count": null,
   "id": "30b2ddf8-9ef0-4bc6-a204-c49922236109",
   "metadata": {},
   "outputs": [],
   "source": []
  },
  {
   "cell_type": "code",
   "execution_count": null,
   "id": "d6f28aa0-c841-4aa5-8e97-062ce0c5aa84",
   "metadata": {},
   "outputs": [],
   "source": []
  }
 ],
 "metadata": {
  "kernelspec": {
   "display_name": "Python 3 (ipykernel)",
   "language": "python",
   "name": "python3"
  },
  "language_info": {
   "codemirror_mode": {
    "name": "ipython",
    "version": 3
   },
   "file_extension": ".py",
   "mimetype": "text/x-python",
   "name": "python",
   "nbconvert_exporter": "python",
   "pygments_lexer": "ipython3",
   "version": "3.10.8"
  }
 },
 "nbformat": 4,
 "nbformat_minor": 5
}
